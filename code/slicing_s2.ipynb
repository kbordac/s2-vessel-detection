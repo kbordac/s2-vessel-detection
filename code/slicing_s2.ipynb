{
 "cells": [
  {
   "cell_type": "markdown",
   "metadata": {},
   "source": [
    "## Tiling Sentinel-2 images"
   ]
  },
  {
   "cell_type": "code",
   "execution_count": 1,
   "metadata": {},
   "outputs": [],
   "source": [
    "import os\n",
    "from osgeo import gdal\n",
    "from osgeo import ogr"
   ]
  },
  {
   "cell_type": "code",
   "execution_count": 2,
   "metadata": {},
   "outputs": [],
   "source": [
    "shp_cut = \"shapes/hou_grid_2000m_ov200m_sub.shp\""
   ]
  },
  {
   "cell_type": "code",
   "execution_count": 3,
   "metadata": {},
   "outputs": [],
   "source": [
    "def find_tif(s2img):\n",
    "    files = os.listdir(s2img)\n",
    "    for file in files:\n",
    "        if file[-3:] == 'tif':\n",
    "            return file"
   ]
  },
  {
   "cell_type": "code",
   "execution_count": 4,
   "metadata": {},
   "outputs": [],
   "source": [
    "# create folder to save the tiles\n",
    "def make_out_folder(s2img):\n",
    "    out_folder = s2img + \"/tiles/\"\n",
    "    os.system(\"mkdir \" + out_folder)\n",
    "    return out_folder"
   ]
  },
  {
   "cell_type": "code",
   "execution_count": 6,
   "metadata": {},
   "outputs": [],
   "source": [
    "def get_tile_ids(shp_cut):\n",
    "    # open shapefile\n",
    "    driver = ogr.GetDriverByName('ESRI Shapefile')\n",
    "    dataSource = driver.Open(shp_cut, 0)\n",
    "    layer = dataSource.GetLayer()\n",
    "    # populate list with tile ids\n",
    "    tile_ids = []\n",
    "    for feature in layer:\n",
    "        tile_ids.append(str(feature.GetField('id')))\n",
    "    return tile_ids"
   ]
  },
  {
   "cell_type": "code",
   "execution_count": 7,
   "metadata": {},
   "outputs": [],
   "source": [
    "def tiling(s2img, shp_cut):\n",
    "    # determine input tif file\n",
    "    input_tif_path = s2img + \"/\" + find_tif(s2img)\n",
    "    # prepare output folder\n",
    "    out_folder = make_out_folder(s2img)\n",
    "    # prepare tile base name\n",
    "    tile_base = out_folder + find_tif(s2img)[:-4] \n",
    "    # get tiles ids\n",
    "    tile_ids = get_tile_ids(shp_cut)\n",
    "    # cut each tile\n",
    "    for tile in tile_ids:\n",
    "        # prepare tile path\n",
    "        tile_path = tile_base + \"_\" + tile + \".tif\"\n",
    "        output = gdal.Warp(tile_path, \n",
    "                           input_tif_path, \n",
    "                           format = 'GTiff',\n",
    "                           cutlineDSName=shp_cut,\n",
    "                           cropToCutline=True,\n",
    "                           cutlineWhere= \"id = \"+tile,\n",
    "                           dstNodata = 0)\n",
    "        output = None "
   ]
  },
  {
   "cell_type": "code",
   "execution_count": 8,
   "metadata": {},
   "outputs": [],
   "source": [
    "# get all s2 folders\n",
    "def get_s2_dir():\n",
    "    files = os.listdir()\n",
    "    s2_dirs = []\n",
    "    for file in files:\n",
    "        if file[:2] == 'S2':\n",
    "            s2_dirs.append(file)\n",
    "    return s2_dirs"
   ]
  },
  {
   "cell_type": "code",
   "execution_count": 9,
   "metadata": {},
   "outputs": [],
   "source": [
    "# tile each s2 image\n",
    "s2_dirs = get_s2_dir()\n",
    "for s2 in s2_dirs:\n",
    "    tiling(s2, shp_cut)"
   ]
  },
  {
   "cell_type": "code",
   "execution_count": null,
   "metadata": {},
   "outputs": [],
   "source": []
  }
 ],
 "metadata": {
  "kernelspec": {
   "display_name": "Python 3",
   "language": "python",
   "name": "python3"
  },
  "language_info": {
   "codemirror_mode": {
    "name": "ipython",
    "version": 3
   },
   "file_extension": ".py",
   "mimetype": "text/x-python",
   "name": "python",
   "nbconvert_exporter": "python",
   "pygments_lexer": "ipython3",
   "version": "3.7.6"
  }
 },
 "nbformat": 4,
 "nbformat_minor": 2
}
